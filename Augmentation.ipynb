{
 "cells": [
  {
   "cell_type": "code",
   "execution_count": 4,
   "id": "f9e5f482",
   "metadata": {},
   "outputs": [
    {
     "name": "stderr",
     "output_type": "stream",
     "text": [
      "C:\\Users\\ACER\\anaconda3\\Lib\\site-packages\\imgaug\\imgaug.py:184: DeprecationWarning: Function `ContrastNormalization()` is deprecated. Use `imgaug.contrast.LinearContrast` instead.\n",
      "  warn_deprecated(msg, stacklevel=3)\n",
      "C:\\Users\\ACER\\AppData\\Local\\Temp\\ipykernel_8664\\311556299.py:43: DeprecationWarning: Starting with ImageIO v3 the behavior of this function will switch to that of iio.v3.imread. To keep the current behavior (and make this warning disappear) use `import imageio.v2 as imageio` or call `imageio.v2.imread` directly.\n",
      "  imageio.imwrite(output_image_path, imageio.imread(image_path))\n",
      "C:\\Users\\ACER\\AppData\\Local\\Temp\\ipykernel_8664\\311556299.py:53: DeprecationWarning: Starting with ImageIO v3 the behavior of this function will switch to that of iio.v3.imread. To keep the current behavior (and make this warning disappear) use `import imageio.v2 as imageio` or call `imageio.v2.imread` directly.\n",
      "  image = imageio.imread(image_path)\n"
     ]
    },
    {
     "ename": "ValueError",
     "evalue": "Could not find a backend to open `C:\\Users\\ACER\\Pca_model\\Dataset\\New folder\\Yellow Leaf Curl Virus\\svn-r6Yb5c`` with iomode `ri`.",
     "output_type": "error",
     "traceback": [
      "\u001b[1;31m---------------------------------------------------------------------------\u001b[0m",
      "\u001b[1;31mValueError\u001b[0m                                Traceback (most recent call last)",
      "Cell \u001b[1;32mIn[4], line 71\u001b[0m\n\u001b[0;32m     68\u001b[0m output_directory \u001b[38;5;241m=\u001b[39m \u001b[38;5;124mr\u001b[39m\u001b[38;5;124m\"\u001b[39m\u001b[38;5;124mC:\u001b[39m\u001b[38;5;124m\\\u001b[39m\u001b[38;5;124mUsers\u001b[39m\u001b[38;5;124m\\\u001b[39m\u001b[38;5;124mACER\u001b[39m\u001b[38;5;124m\\\u001b[39m\u001b[38;5;124mPca_model\u001b[39m\u001b[38;5;124m\\\u001b[39m\u001b[38;5;124mDataset\u001b[39m\u001b[38;5;124m\\\u001b[39m\u001b[38;5;124mAugmented\u001b[39m\u001b[38;5;124m\"\u001b[39m\n\u001b[0;32m     70\u001b[0m \u001b[38;5;66;03m# Perform augmentation and save images\u001b[39;00m\n\u001b[1;32m---> 71\u001b[0m augment_and_save_images(input_directory, output_directory)\n",
      "Cell \u001b[1;32mIn[4], line 43\u001b[0m, in \u001b[0;36maugment_and_save_images\u001b[1;34m(input_dir, output_dir)\u001b[0m\n\u001b[0;32m     41\u001b[0m     image_path \u001b[38;5;241m=\u001b[39m os\u001b[38;5;241m.\u001b[39mpath\u001b[38;5;241m.\u001b[39mjoin(class_dir, image_name)\n\u001b[0;32m     42\u001b[0m     output_image_path \u001b[38;5;241m=\u001b[39m os\u001b[38;5;241m.\u001b[39mpath\u001b[38;5;241m.\u001b[39mjoin(output_class_dir, image_name)\n\u001b[1;32m---> 43\u001b[0m     imageio\u001b[38;5;241m.\u001b[39mimwrite(output_image_path, imageio\u001b[38;5;241m.\u001b[39mimread(image_path))\n\u001b[0;32m     45\u001b[0m \u001b[38;5;66;03m# Calculate the number of augmented images needed\u001b[39;00m\n\u001b[0;32m     46\u001b[0m num_augmented_images_needed \u001b[38;5;241m=\u001b[39m max_images \u001b[38;5;241m-\u001b[39m num_images\n",
      "File \u001b[1;32m~\\anaconda3\\Lib\\site-packages\\imageio\\__init__.py:97\u001b[0m, in \u001b[0;36mimread\u001b[1;34m(uri, format, **kwargs)\u001b[0m\n\u001b[0;32m     68\u001b[0m \u001b[38;5;250m\u001b[39m\u001b[38;5;124;03m\"\"\"imread(uri, format=None, **kwargs)\u001b[39;00m\n\u001b[0;32m     69\u001b[0m \n\u001b[0;32m     70\u001b[0m \u001b[38;5;124;03mReads an image from the specified file. Returns a numpy array, which\u001b[39;00m\n\u001b[1;32m   (...)\u001b[0m\n\u001b[0;32m     86\u001b[0m \u001b[38;5;124;03m    to see what arguments are available for a particular format.\u001b[39;00m\n\u001b[0;32m     87\u001b[0m \u001b[38;5;124;03m\"\"\"\u001b[39;00m\n\u001b[0;32m     89\u001b[0m warnings\u001b[38;5;241m.\u001b[39mwarn(\n\u001b[0;32m     90\u001b[0m     \u001b[38;5;124m\"\u001b[39m\u001b[38;5;124mStarting with ImageIO v3 the behavior of this function will switch to that of\u001b[39m\u001b[38;5;124m\"\u001b[39m\n\u001b[0;32m     91\u001b[0m     \u001b[38;5;124m\"\u001b[39m\u001b[38;5;124m iio.v3.imread. To keep the current behavior (and make this warning disappear)\u001b[39m\u001b[38;5;124m\"\u001b[39m\n\u001b[1;32m   (...)\u001b[0m\n\u001b[0;32m     94\u001b[0m     stacklevel\u001b[38;5;241m=\u001b[39m\u001b[38;5;241m2\u001b[39m,\n\u001b[0;32m     95\u001b[0m )\n\u001b[1;32m---> 97\u001b[0m \u001b[38;5;28;01mreturn\u001b[39;00m imread_v2(uri, \u001b[38;5;28mformat\u001b[39m\u001b[38;5;241m=\u001b[39m\u001b[38;5;28mformat\u001b[39m, \u001b[38;5;241m*\u001b[39m\u001b[38;5;241m*\u001b[39mkwargs)\n",
      "File \u001b[1;32m~\\anaconda3\\Lib\\site-packages\\imageio\\v2.py:226\u001b[0m, in \u001b[0;36mimread\u001b[1;34m(uri, format, **kwargs)\u001b[0m\n\u001b[0;32m    223\u001b[0m imopen_args \u001b[38;5;241m=\u001b[39m decypher_format_arg(\u001b[38;5;28mformat\u001b[39m)\n\u001b[0;32m    224\u001b[0m imopen_args[\u001b[38;5;124m\"\u001b[39m\u001b[38;5;124mlegacy_mode\u001b[39m\u001b[38;5;124m\"\u001b[39m] \u001b[38;5;241m=\u001b[39m \u001b[38;5;28;01mTrue\u001b[39;00m\n\u001b[1;32m--> 226\u001b[0m \u001b[38;5;28;01mwith\u001b[39;00m imopen(uri, \u001b[38;5;124m\"\u001b[39m\u001b[38;5;124mri\u001b[39m\u001b[38;5;124m\"\u001b[39m, \u001b[38;5;241m*\u001b[39m\u001b[38;5;241m*\u001b[39mimopen_args) \u001b[38;5;28;01mas\u001b[39;00m file:\n\u001b[0;32m    227\u001b[0m     result \u001b[38;5;241m=\u001b[39m file\u001b[38;5;241m.\u001b[39mread(index\u001b[38;5;241m=\u001b[39m\u001b[38;5;241m0\u001b[39m, \u001b[38;5;241m*\u001b[39m\u001b[38;5;241m*\u001b[39mkwargs)\n\u001b[0;32m    229\u001b[0m \u001b[38;5;28;01mreturn\u001b[39;00m result\n",
      "File \u001b[1;32m~\\anaconda3\\Lib\\site-packages\\imageio\\core\\imopen.py:298\u001b[0m, in \u001b[0;36mimopen\u001b[1;34m(uri, io_mode, plugin, extension, format_hint, legacy_mode, **kwargs)\u001b[0m\n\u001b[0;32m    292\u001b[0m         err_msg \u001b[38;5;241m+\u001b[39m\u001b[38;5;241m=\u001b[39m (\n\u001b[0;32m    293\u001b[0m             \u001b[38;5;124m\"\u001b[39m\u001b[38;5;130;01m\\n\u001b[39;00m\u001b[38;5;124mBased on the extension, the following plugins might add capable backends:\u001b[39m\u001b[38;5;130;01m\\n\u001b[39;00m\u001b[38;5;124m\"\u001b[39m\n\u001b[0;32m    294\u001b[0m             \u001b[38;5;124mf\u001b[39m\u001b[38;5;124m\"\u001b[39m\u001b[38;5;132;01m{\u001b[39;00minstall_candidates\u001b[38;5;132;01m}\u001b[39;00m\u001b[38;5;124m\"\u001b[39m\n\u001b[0;32m    295\u001b[0m         )\n\u001b[0;32m    297\u001b[0m request\u001b[38;5;241m.\u001b[39mfinish()\n\u001b[1;32m--> 298\u001b[0m \u001b[38;5;28;01mraise\u001b[39;00m err_type(err_msg)\n",
      "\u001b[1;31mValueError\u001b[0m: Could not find a backend to open `C:\\Users\\ACER\\Pca_model\\Dataset\\New folder\\Yellow Leaf Curl Virus\\svn-r6Yb5c`` with iomode `ri`."
     ]
    }
   ],
   "source": [
    "import os\n",
    "import imgaug.augmenters as iaa\n",
    "import imageio\n",
    "import numpy as np\n",
    "\n",
    "# Define the sequence of augmentations with additional filters\n",
    "seq = iaa.Sequential([\n",
    "    iaa.Fliplr(0.5),  # horizontal flips\n",
    "    iaa.AdditiveGaussianNoise(scale=(0, 0.05*255)),  # adding gaussian noise\n",
    "    iaa.GaussianBlur(sigma=(0.0, 3.0)),  # apply Gaussian blur\n",
    "    iaa.ContrastNormalization((0.75, 1.5)),  # normalize contrast\n",
    "    iaa.Crop(percent=(0, 0.1))  # random crops\n",
    "])\n",
    "\n",
    "def augment_and_save_images(input_dir, output_dir):\n",
    "    # Get the maximum number of images in any class\n",
    "    max_images = 0\n",
    "    for class_name in os.listdir(input_dir):\n",
    "        class_dir = os.path.join(input_dir, class_name)\n",
    "        if os.path.isdir(class_dir):\n",
    "            num_images = len([name for name in os.listdir(class_dir) if os.path.isfile(os.path.join(class_dir, name))])\n",
    "            if num_images > max_images:\n",
    "                max_images = num_images\n",
    "\n",
    "    # Iterate over each class in the input directory\n",
    "    for class_name in os.listdir(input_dir):\n",
    "        class_dir = os.path.join(input_dir, class_name)\n",
    "        if not os.path.isdir(class_dir):\n",
    "            continue\n",
    "\n",
    "        # Create the corresponding output directory\n",
    "        output_class_dir = os.path.join(output_dir, class_name)\n",
    "        os.makedirs(output_class_dir, exist_ok=True)\n",
    "\n",
    "        # Get list of images in the class directory\n",
    "        image_names = [name for name in os.listdir(class_dir) if os.path.isfile(os.path.join(class_dir, name))]\n",
    "        num_images = len(image_names)\n",
    "\n",
    "        # Copy original images to the output directory\n",
    "        for image_name in image_names:\n",
    "            image_path = os.path.join(class_dir, image_name)\n",
    "            output_image_path = os.path.join(output_class_dir, image_name)\n",
    "            imageio.imwrite(output_image_path, imageio.imread(image_path))\n",
    "\n",
    "        # Calculate the number of augmented images needed\n",
    "        num_augmented_images_needed = max_images - num_images\n",
    "\n",
    "        # Augment and save images to reach the max_images count\n",
    "        for image_name in image_names:\n",
    "            if num_augmented_images_needed <= 0:\n",
    "                break\n",
    "            image_path = os.path.join(class_dir, image_name)\n",
    "            image = imageio.imread(image_path)\n",
    "            num_augmentations = min(num_augmented_images_needed, max_images - num_images)\n",
    "            images_aug = seq(images=[image for _ in range(num_augmentations)])\n",
    "\n",
    "            # Save the augmented images\n",
    "            for i, aug_image in enumerate(images_aug):\n",
    "                if num_augmented_images_needed <= 0:\n",
    "                    break\n",
    "                aug_image_name = f\"{os.path.splitext(image_name)[0]}_aug_{i+1}.jpg\"\n",
    "                aug_image_path = os.path.join(output_class_dir, aug_image_name)\n",
    "                imageio.imwrite(aug_image_path, aug_image)\n",
    "                num_augmented_images_needed -= 1\n",
    "\n",
    "# Define the input and output directories\n",
    "input_directory = r\"C:\\Users\\ACER\\Pca_model\\Dataset\\New folder\"\n",
    "output_directory = r\"C:\\Users\\ACER\\Pca_model\\Dataset\\Augmented\"\n",
    "\n",
    "# Perform augmentation and save images\n",
    "augment_and_save_images(input_directory, output_directory)\n"
   ]
  },
  {
   "cell_type": "code",
   "execution_count": null,
   "id": "9842250a",
   "metadata": {},
   "outputs": [],
   "source": []
  }
 ],
 "metadata": {
  "kernelspec": {
   "display_name": "Python 3 (ipykernel)",
   "language": "python",
   "name": "python3"
  },
  "language_info": {
   "codemirror_mode": {
    "name": "ipython",
    "version": 3
   },
   "file_extension": ".py",
   "mimetype": "text/x-python",
   "name": "python",
   "nbconvert_exporter": "python",
   "pygments_lexer": "ipython3",
   "version": "3.11.5"
  }
 },
 "nbformat": 4,
 "nbformat_minor": 5
}
