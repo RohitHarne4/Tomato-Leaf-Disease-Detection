{
 "cells": [
  {
   "cell_type": "code",
   "execution_count": null,
   "id": "a66feed4",
   "metadata": {},
   "outputs": [
    {
     "name": "stdout",
     "output_type": "stream",
     "text": [
      "<keras.src.engine.sequential.Sequential object at 0x000001A0B7FB2A10>\n",
      "Model Loaded Successfully\n",
      " * Serving Flask app '__main__'\n",
      " * Debug mode: off\n"
     ]
    },
    {
     "name": "stderr",
     "output_type": "stream",
     "text": [
      "WARNING: This is a development server. Do not use it in a production deployment. Use a production WSGI server instead.\n",
      " * Running on http://127.0.0.1:8080\n",
      "Press CTRL+C to quit\n",
      "127.0.0.1 - - [11/Jun/2024 13:51:04] \"GET / HTTP/1.1\" 200 -\n",
      "127.0.0.1 - - [11/Jun/2024 13:51:04] \"GET /static/images/Tomato___Bacterial_spot.jpg HTTP/1.1\" 304 -\n",
      "127.0.0.1 - - [11/Jun/2024 13:51:04] \"GET /static/images/Background.jpg HTTP/1.1\" 304 -\n",
      "127.0.0.1 - - [11/Jun/2024 13:51:04] \"GET /favicon.ico HTTP/1.1\" 404 -\n"
     ]
    },
    {
     "name": "stdout",
     "output_type": "stream",
     "text": [
      "@@ Input posted =  bacterial spot.JPG\n",
      "@@ Predicting class......\n",
      "@@ Got Image for prediction\n",
      "1/1 [==============================] - 0s 319ms/step\n"
     ]
    },
    {
     "name": "stderr",
     "output_type": "stream",
     "text": [
      "127.0.0.1 - - [11/Jun/2024 13:51:16] \"POST /predict HTTP/1.1\" 200 -\n",
      "127.0.0.1 - - [11/Jun/2024 13:51:16] \"GET /static/images/Tomato___Bacterial_spot.JPG HTTP/1.1\" 304 -\n",
      "127.0.0.1 - - [11/Jun/2024 13:51:16] \"GET /static/images/Back.jpg HTTP/1.1\" 304 -\n"
     ]
    },
    {
     "name": "stdout",
     "output_type": "stream",
     "text": [
      "@@ Raw result =  [[0.99194664 0.61592835 0.56379807 0.336319   0.25647283]]\n",
      "[0]\n"
     ]
    },
    {
     "name": "stderr",
     "output_type": "stream",
     "text": [
      "127.0.0.1 - - [11/Jun/2024 13:51:29] \"GET / HTTP/1.1\" 200 -\n",
      "127.0.0.1 - - [11/Jun/2024 13:51:29] \"GET /static/images/Tomato___Bacterial_spot.jpg HTTP/1.1\" 200 -\n",
      "127.0.0.1 - - [11/Jun/2024 13:51:29] \"GET /static/images/Background.jpg HTTP/1.1\" 200 -\n",
      "127.0.0.1 - - [11/Jun/2024 13:51:40] \"GET / HTTP/1.1\" 200 -\n",
      "127.0.0.1 - - [11/Jun/2024 13:51:40] \"GET /static/images/Tomato___Bacterial_spot.jpg HTTP/1.1\" 304 -\n",
      "127.0.0.1 - - [11/Jun/2024 13:51:40] \"GET /static/images/Background.jpg HTTP/1.1\" 304 -\n",
      "127.0.0.1 - - [11/Jun/2024 15:11:10] \"GET / HTTP/1.1\" 200 -\n",
      "127.0.0.1 - - [11/Jun/2024 15:11:10] \"GET /static/images/Tomato___Bacterial_spot.jpg HTTP/1.1\" 304 -\n",
      "127.0.0.1 - - [11/Jun/2024 15:11:10] \"GET /static/images/Background.jpg HTTP/1.1\" 304 -\n",
      "127.0.0.1 - - [11/Jun/2024 15:32:24] \"GET / HTTP/1.1\" 200 -\n",
      "127.0.0.1 - - [11/Jun/2024 15:32:24] \"GET /static/images/Tomato___Bacterial_spot.jpg HTTP/1.1\" 304 -\n",
      "127.0.0.1 - - [11/Jun/2024 15:32:24] \"GET /static/images/Background.jpg HTTP/1.1\" 304 -\n"
     ]
    },
    {
     "name": "stdout",
     "output_type": "stream",
     "text": [
      "@@ Input posted =  bacterial spot.JPG\n",
      "@@ Predicting class......\n",
      "@@ Got Image for prediction\n",
      "1/1 [==============================] - 0s 192ms/step\n"
     ]
    },
    {
     "name": "stderr",
     "output_type": "stream",
     "text": [
      "127.0.0.1 - - [11/Jun/2024 15:32:46] \"POST /predict HTTP/1.1\" 200 -\n",
      "127.0.0.1 - - [11/Jun/2024 15:32:46] \"GET /static/images/Tomato___Bacterial_spot.JPG HTTP/1.1\" 304 -\n",
      "127.0.0.1 - - [11/Jun/2024 15:32:46] \"GET /static/images/Back.jpg HTTP/1.1\" 304 -\n"
     ]
    },
    {
     "name": "stdout",
     "output_type": "stream",
     "text": [
      "@@ Raw result =  [[0.99194664 0.61592835 0.56379807 0.336319   0.25647283]]\n",
      "[0]\n"
     ]
    }
   ],
   "source": [
    "#Import necessary libraries\n",
    "from flask import Flask, render_template, request\n",
    "\n",
    "import numpy as np\n",
    "import os\n",
    "\n",
    "from tensorflow.keras.preprocessing.image import load_img\n",
    "from tensorflow.keras.preprocessing.image import img_to_array\n",
    "from tensorflow.keras.models import load_model\n",
    "\n",
    "filepath =r\"C:\\Users\\ACER\\Pca_model\\model0.h5\"\n",
    "model = load_model(filepath)\n",
    "print(model)\n",
    "\n",
    "print(\"Model Loaded Successfully\")\n",
    "\n",
    "def pred_tomato_dieas(tomato_plant):\n",
    "  test_image = load_img(tomato_plant, target_size = (224, 224)) # load image \n",
    "  print(\"@@ Got Image for prediction\")\n",
    "  \n",
    "  test_image = img_to_array(test_image)/255 # convert image to np array and normalize\n",
    "  test_image = np.expand_dims(test_image, axis = 0) # change dimention 3D to 4D\n",
    "  \n",
    "  result = model.predict(test_image) # predict diseased plant or not\n",
    "  print('@@ Raw result = ', result)\n",
    "  \n",
    "  pred = np.argmax(result, axis=1)\n",
    "  print(pred)\n",
    "  if pred==0:\n",
    "      return \"Bacterial Spot\", 'Tomato-Bacteria Spot.html'\n",
    "       \n",
    "  elif pred==1:\n",
    "      return \"Early Blight\", 'Tomato-Early_Blight.html'\n",
    "        \n",
    "  elif pred==2:\n",
    "      return \"Healthy\", 'Tomato-Healthy.html'\n",
    "       \n",
    "  elif pred==3:\n",
    "      return \"Leaf Mold\", 'Tomato - Leaf_Mold.html'\n",
    "\n",
    "  elif pred==4:\n",
    "      return \"Yellow Leaf Curl Virus\", 'Tomato - Tomato_Yellow_Leaf_Curl_Virus.html'\n",
    "# Create flask instance\n",
    "app = Flask(__name__)\n",
    "\n",
    "# render index.html page\n",
    "@app.route(\"/\", methods=['GET', 'POST'])\n",
    "def home():\n",
    "        return render_template('index.html')\n",
    "    \n",
    " \n",
    "# get input image from client then predict class and render respective .html page for solution\n",
    "@app.route(\"/predict\", methods = ['GET','POST'])\n",
    "def predict():\n",
    "     if request.method == 'POST':\n",
    "        file = request.files['image'] # fet input\n",
    "        filename = file.filename        \n",
    "        print(\"@@ Input posted = \", filename)\n",
    "        \n",
    "        file_path = os.path.join(r\"C:\\Users\\ACER\\Cnn_model\\static\\upload\", filename)\n",
    "        file.save(file_path)\n",
    "\n",
    "        print(\"@@ Predicting class......\")\n",
    "        pred, output_page = pred_tomato_dieas(tomato_plant=file_path)\n",
    "              \n",
    "        return render_template(output_page, pred_output = pred, user_image = file_path)\n",
    "    \n",
    "# For local system & cloud\n",
    "if __name__ == \"__main__\":\n",
    "    app.run(threaded=False,port=8080) \n"
   ]
  },
  {
   "cell_type": "code",
   "execution_count": null,
   "id": "04c39e4f",
   "metadata": {},
   "outputs": [],
   "source": []
  }
 ],
 "metadata": {
  "kernelspec": {
   "display_name": "Python 3 (ipykernel)",
   "language": "python",
   "name": "python3"
  },
  "language_info": {
   "codemirror_mode": {
    "name": "ipython",
    "version": 3
   },
   "file_extension": ".py",
   "mimetype": "text/x-python",
   "name": "python",
   "nbconvert_exporter": "python",
   "pygments_lexer": "ipython3",
   "version": "3.11.5"
  }
 },
 "nbformat": 4,
 "nbformat_minor": 5
}
